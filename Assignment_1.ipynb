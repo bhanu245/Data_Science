{
 "cells": [
  {
   "cell_type": "markdown",
   "id": "f2d4a017-2499-43fd-9c3a-5d8e2fe3b4a8",
   "metadata": {},
   "source": [
    "1. Find out all the types of errors that we have encountered in our lecture and why? also include the examples."
   ]
  },
  {
   "cell_type": "code",
   "execution_count": 6,
   "id": "c639fe0a-f874-4686-a440-3c69d0af478f",
   "metadata": {},
   "outputs": [
    {
     "ename": "NameError",
     "evalue": "name 'TEN' is not defined",
     "output_type": "error",
     "traceback": [
      "\u001b[0;31m---------------------------------------------------------------------------\u001b[0m",
      "\u001b[0;31mNameError\u001b[0m                                 Traceback (most recent call last)",
      "Input \u001b[0;32mIn [6]\u001b[0m, in \u001b[0;36m<cell line: 9>\u001b[0;34m()\u001b[0m\n\u001b[1;32m      7\u001b[0m Ten \u001b[38;5;241m=\u001b[39m\u001b[38;5;241m10\u001b[39m \n\u001b[1;32m      8\u001b[0m ten \u001b[38;5;241m=\u001b[39m \u001b[38;5;241m20\u001b[39m\n\u001b[0;32m----> 9\u001b[0m \u001b[38;5;28mprint\u001b[39m (\u001b[43mTEN\u001b[49m)\n",
      "\u001b[0;31mNameError\u001b[0m: name 'TEN' is not defined"
     ]
    }
   ],
   "source": [
    "Error 1: Name error based on Case Sensitive. \n",
    "  Why: Python identifies the name based on upper case or lower case\n",
    "\"\"\"\n",
    "\"Example: \"\n",
    "Ten =10 \n",
    "ten = 20\n",
    "print (TEN)\n"
   ]
  },
  {
   "cell_type": "code",
   "execution_count": 38,
   "id": "c251d73a-de62-4898-9de1-6fc1a2d715bb",
   "metadata": {},
   "outputs": [
    {
     "ename": "TypeError",
     "evalue": "'int' object is not callable",
     "output_type": "error",
     "traceback": [
      "\u001b[0;31m---------------------------------------------------------------------------\u001b[0m",
      "\u001b[0;31mTypeError\u001b[0m                                 Traceback (most recent call last)",
      "Input \u001b[0;32mIn [38]\u001b[0m, in \u001b[0;36m<cell line: 7>\u001b[0;34m()\u001b[0m\n\u001b[1;32m      5\u001b[0m \u001b[38;5;124m\"\u001b[39m\u001b[38;5;124m Example:\u001b[39m\u001b[38;5;124m\"\u001b[39m\n\u001b[1;32m      6\u001b[0m \u001b[38;5;28mprint\u001b[39m \u001b[38;5;241m=\u001b[39m \u001b[38;5;241m10\u001b[39m\n\u001b[0;32m----> 7\u001b[0m \u001b[38;5;28;43mprint\u001b[39;49m\u001b[43m \u001b[49m\u001b[43m(\u001b[49m\u001b[38;5;28;43mprint\u001b[39;49m\u001b[43m)\u001b[49m\n\u001b[1;32m      8\u001b[0m \u001b[38;5;28;01mdel\u001b[39;00m \u001b[38;5;28mprint\u001b[39m\n",
      "\u001b[0;31mTypeError\u001b[0m: 'int' object is not callable"
     ]
    }
   ],
   "source": [
    "\"\"\"\n",
    "Error 2: string with key words cannot be called (Type Error)\n",
    "Why: Key words cannot be used as variable names.\n",
    "\"\"\"\n",
    "\" Example:\"\n",
    "print = 10\n",
    "print (print)\n",
    "del print"
   ]
  },
  {
   "cell_type": "code",
   "execution_count": 8,
   "id": "4662135f-302b-47c3-be45-d9e456c0f20d",
   "metadata": {},
   "outputs": [
    {
     "ename": "ValueError",
     "evalue": "not enough values to unpack (expected 4, got 3)",
     "output_type": "error",
     "traceback": [
      "\u001b[0;31m---------------------------------------------------------------------------\u001b[0m",
      "\u001b[0;31mValueError\u001b[0m                                Traceback (most recent call last)",
      "Input \u001b[0;32mIn [8]\u001b[0m, in \u001b[0;36m<cell line: 1>\u001b[0;34m()\u001b[0m\n\u001b[0;32m----> 1\u001b[0m a,b,c,d \u001b[38;5;241m=\u001b[39m \u001b[38;5;241m10\u001b[39m, \u001b[38;5;241m11\u001b[39m, \u001b[38;5;241m12\u001b[39m\n\u001b[1;32m      2\u001b[0m \u001b[38;5;28mprint\u001b[39m (d)\n",
      "\u001b[0;31mValueError\u001b[0m: not enough values to unpack (expected 4, got 3)"
     ]
    }
   ],
   "source": [
    "\"\"\"\n",
    "Error 3: Value is missing for variable. \n",
    "Why: System cannot assign automatically without any userinput.\n",
    "\"\"\"\n",
    "a,b,c,d = 10, 11, 12\n",
    "print (d)\n"
   ]
  },
  {
   "cell_type": "code",
   "execution_count": 10,
   "id": "48053ea2-e1cb-404a-9663-6283a0adbd10",
   "metadata": {},
   "outputs": [
    {
     "name": "stdin",
     "output_type": "stream",
     "text": [
      "Enter your subject 1 Maths\n",
      "Enter your marks of subject 1 95\n",
      "Enter your subject 2 Stats\n",
      "Enter your marks of subject 2 95\n"
     ]
    },
    {
     "ename": "TypeError",
     "evalue": "unsupported operand type(s) for -: 'str' and 'str'",
     "output_type": "error",
     "traceback": [
      "\u001b[0;31m---------------------------------------------------------------------------\u001b[0m",
      "\u001b[0;31mTypeError\u001b[0m                                 Traceback (most recent call last)",
      "Input \u001b[0;32mIn [10]\u001b[0m, in \u001b[0;36m<cell line: 10>\u001b[0;34m()\u001b[0m\n\u001b[1;32m      8\u001b[0m sub_2 \u001b[38;5;241m=\u001b[39m \u001b[38;5;28minput\u001b[39m(\u001b[38;5;124m\"\u001b[39m\u001b[38;5;124mEnter your subject 2\u001b[39m\u001b[38;5;124m\"\u001b[39m)\n\u001b[1;32m      9\u001b[0m sub_marks_2 \u001b[38;5;241m=\u001b[39m \u001b[38;5;28minput\u001b[39m(\u001b[38;5;124m\"\u001b[39m\u001b[38;5;124mEnter your marks of subject 2\u001b[39m\u001b[38;5;124m\"\u001b[39m)\n\u001b[0;32m---> 10\u001b[0m Total_mark_out_of_100 \u001b[38;5;241m=\u001b[39m \u001b[43msub_marks_1\u001b[49m\u001b[43m \u001b[49m\u001b[38;5;241;43m-\u001b[39;49m\u001b[43m \u001b[49m\u001b[43msub_marks_2\u001b[49m\n\u001b[1;32m     11\u001b[0m \u001b[38;5;28mprint\u001b[39m (\u001b[38;5;124mf\u001b[39m\u001b[38;5;124m\"\u001b[39m\u001b[38;5;124mTotal marks of all subjects out of 200 is: \u001b[39m\u001b[38;5;132;01m{\u001b[39;00mTotal_mark_out_of_100\u001b[38;5;132;01m}\u001b[39;00m\u001b[38;5;124m\"\u001b[39m)\n",
      "\u001b[0;31mTypeError\u001b[0m: unsupported operand type(s) for -: 'str' and 'str'"
     ]
    }
   ],
   "source": [
    "\"\"\"\n",
    "Error 4: unsupported operand type(s) while using User Input option\n",
    "Why: entered Input always gives you string value but not any other type so we cannot add or perform any operation. \n",
    "\"\"\"\n",
    "\"Example\"\n",
    "sub_1 = input(\"Enter your subject 1\")\n",
    "sub_marks_1 = input(\"Enter your marks of subject 1\")\n",
    "sub_2 = input(\"Enter your subject 2\")\n",
    "sub_marks_2 = input(\"Enter your marks of subject 2\")\n",
    "Total_mark_out_of_100 = sub_marks_1 - sub_marks_2\n",
    "print (f\"Total marks of all subjects out of 200 is: {Total_mark_out_of_100}\")"
   ]
  },
  {
   "cell_type": "code",
   "execution_count": 12,
   "id": "30fa35b1-c264-45d8-bc21-4866aa1be7e4",
   "metadata": {},
   "outputs": [
    {
     "name": "stdin",
     "output_type": "stream",
     "text": [
      "Enter value of A:  20.2\n"
     ]
    },
    {
     "ename": "ValueError",
     "evalue": "invalid literal for int() with base 10: '20.2'",
     "output_type": "error",
     "traceback": [
      "\u001b[0;31m---------------------------------------------------------------------------\u001b[0m",
      "\u001b[0;31mValueError\u001b[0m                                Traceback (most recent call last)",
      "Input \u001b[0;32mIn [12]\u001b[0m, in \u001b[0;36m<cell line: 7>\u001b[0;34m()\u001b[0m\n\u001b[1;32m      5\u001b[0m \u001b[38;5;124m\"\u001b[39m\u001b[38;5;124mExample\u001b[39m\u001b[38;5;124m\"\u001b[39m\n\u001b[1;32m      6\u001b[0m A \u001b[38;5;241m=\u001b[39m \u001b[38;5;28minput\u001b[39m(\u001b[38;5;124m\"\u001b[39m\u001b[38;5;124mEnter value of A: \u001b[39m\u001b[38;5;124m\"\u001b[39m)\n\u001b[0;32m----> 7\u001b[0m \u001b[38;5;28;43mint\u001b[39;49m\u001b[43m(\u001b[49m\u001b[43mA\u001b[49m\u001b[43m)\u001b[49m\n",
      "\u001b[0;31mValueError\u001b[0m: invalid literal for int() with base 10: '20.2'"
     ]
    }
   ],
   "source": [
    "\"\"\"\n",
    "Error 5: Value error due to misapplying the type conversion.\n",
    "Why: conversion cannot be proceeded due to different variable types\n",
    "\"\"\"\n",
    "\"Example\"\n",
    "A = input(\"Enter value of A: \")\n",
    "int(A)"
   ]
  },
  {
   "cell_type": "markdown",
   "id": "c6e0a8bd-3e33-457b-8d8d-e59f99229df4",
   "metadata": {},
   "source": [
    "2. Take the input A & B and print their sum, mul, div, squares of nos."
   ]
  },
  {
   "cell_type": "code",
   "execution_count": 49,
   "id": "7e2c4fe3-2fd3-4b64-97ca-ef1bbc96b8f6",
   "metadata": {},
   "outputs": [
    {
     "name": "stdin",
     "output_type": "stream",
     "text": [
      "Enter value of C:  10.256\n",
      "Enter value of D:  85.256\n"
     ]
    },
    {
     "name": "stdout",
     "output_type": "stream",
     "text": [
      "Sum of C & D is 95.512\n",
      "Product of C & D is 874.385536\n",
      "C divided by D is 0.12029651872009009\n",
      "D divided by C is 8.312792511700469\n",
      "C sqaure is 105.185536\n",
      "D sqaure is 7268.585536\n"
     ]
    }
   ],
   "source": [
    "C = float(input(\"Enter value of C: \"))\n",
    "D = float(input(\"Enter value of D: \"))\n",
    "sum_c_d = C+D\n",
    "mul = C*D\n",
    "div_c_d = C/D\n",
    "div_d_c = D/C\n",
    "c_squares = C*C\n",
    "d_squares = D*D\n",
    "print(f\"Sum of C & D is {sum_c_d}\")\n",
    "print(f\"Product of C & D is {mul}\")\n",
    "print(f\"C divided by D is {div_c_d}\")\n",
    "print(f\"D divided by C is {div_d_c}\")\n",
    "print(f\"C sqaure is {c_squares}\")\n",
    "print(f\"D sqaure is {d_squares}\")"
   ]
  },
  {
   "cell_type": "markdown",
   "id": "19bca089-e5c0-4330-a17f-a5b3bc38699e",
   "metadata": {},
   "source": [
    "3. how many reserve key words are there why we should not use them as variable name?"
   ]
  },
  {
   "cell_type": "code",
   "execution_count": 52,
   "id": "f9131b4e-41c0-4583-bcf7-e9b4263c2540",
   "metadata": {},
   "outputs": [
    {
     "name": "stdout",
     "output_type": "stream",
     "text": [
      "\n",
      "Here is a list of the Python keywords.  Enter any keyword to get more help.\n",
      "\n",
      "False               break               for                 not\n",
      "None                class               from                or\n",
      "True                continue            global              pass\n",
      "__peg_parser__      def                 if                  raise\n",
      "and                 del                 import              return\n",
      "as                  elif                in                  try\n",
      "assert              else                is                  while\n",
      "async               except              lambda              with\n",
      "await               finally             nonlocal            yield\n",
      "\n"
     ]
    },
    {
     "data": {
      "text/plain": [
       "'keywords have specific meaning which is fundamentals in python language.'"
      ]
     },
     "execution_count": 52,
     "metadata": {},
     "output_type": "execute_result"
    }
   ],
   "source": [
    "help(\"keywords\")\n",
    "\"keywords have specific meaning which is fundamentals in python language.\" "
   ]
  },
  {
   "cell_type": "markdown",
   "id": "c70bde34-6436-4593-9e9b-d14472c97adb",
   "metadata": {},
   "source": [
    "4. Create mail id's with the user inputs in the following format- lastname.firstname@gmail.com"
   ]
  },
  {
   "cell_type": "code",
   "execution_count": 55,
   "id": "8a1e381b-299d-4ec5-af78-714216f1a719",
   "metadata": {},
   "outputs": [
    {
     "name": "stdin",
     "output_type": "stream",
     "text": [
      "Enter user1 first name bhanu\n",
      "Enter user1 last name prakash\n",
      "Enter user2 first name neelima\n",
      "Enter user2 last name prakash\n",
      "Enter user3 first name shiva\n",
      "Enter user3 last name parvathy\n"
     ]
    },
    {
     "name": "stdout",
     "output_type": "stream",
     "text": [
      "bhanu.prakash@gmail.com\n",
      "neelima.prakash@gmail.com\n",
      "shiva.parvathy@gmail.com\n"
     ]
    }
   ],
   "source": [
    "u1_FN = input(\"Enter user1 first name\")\n",
    "u1_LN = input(\"Enter user1 last name\")\n",
    "u2_FN = input(\"Enter user2 first name\")\n",
    "u2_LN = input(\"Enter user2 last name\")\n",
    "u3_FN = input(\"Enter user3 first name\")\n",
    "u3_LN = input(\"Enter user3 last name\")\n",
    "print(f\"{u1_FN}.{u1_LN}@gmail.com\")\n",
    "print(f\"{u2_FN}.{u2_LN}@gmail.com\")\n",
    "print(f\"{u3_FN}.{u3_LN}@gmail.com\")"
   ]
  },
  {
   "cell_type": "markdown",
   "id": "f5592b09-db51-4fb4-ba85-b4e6cc1d8477",
   "metadata": {},
   "source": [
    "5. Try to point the following lines -\n",
    "- Hi I'am Sunny \n",
    "- My address is 22/3\n",
    "- I earn $20 daily"
   ]
  },
  {
   "cell_type": "code",
   "execution_count": 58,
   "id": "d2c1d8ed-6934-4048-af61-24622ccd347d",
   "metadata": {},
   "outputs": [
    {
     "name": "stdout",
     "output_type": "stream",
     "text": [
      "Hi I'am Sunny\n",
      "My address is 22/3\n",
      "I earn $20 daily\n"
     ]
    }
   ],
   "source": [
    "print(\"\"\"Hi I'am Sunny\n",
    "My address is 22/3\n",
    "I earn $20 daily\"\"\")"
   ]
  },
  {
   "cell_type": "markdown",
   "id": "8b5106cf-f175-4cce-b180-e3a30ec31e73",
   "metadata": {},
   "source": [
    "6. Take user input (name, address, date of birth etc) to fill a form for your college and print their email IDs"
   ]
  },
  {
   "cell_type": "code",
   "execution_count": 4,
   "id": "0a0cd307-d856-4668-900a-2ecd8fc99043",
   "metadata": {},
   "outputs": [
    {
     "name": "stdin",
     "output_type": "stream",
     "text": [
      "Enter you first name Bhanu\n",
      "Enter you last name Prakash\n",
      "Enter your full address vizag\n",
      "Enter you date of birth 30 feb 95\n",
      "Enter your blood group A+ve\n",
      "Enter your branch marine\n"
     ]
    },
    {
     "name": "stdout",
     "output_type": "stream",
     "text": [
      "your mail id is: Bhanu.Prakash@aicollege.com \n"
     ]
    }
   ],
   "source": [
    "first_name = input(\"Enter you first name\")\n",
    "last_name = input(\"Enter you last name\")\n",
    "home_address = input(\"Enter your full address\")\n",
    "dob = input(\"Enter you date of birth\")\n",
    "blood_group = input(\"Enter your blood group\")\n",
    "branch = input(\"Enter your branch\")\n",
    "print (f\"your mail id is: {first_name}.{last_name}@aicollege.com \")"
   ]
  },
  {
   "cell_type": "raw",
   "id": "b00478f1-064d-4636-add6-4676ec96b3a7",
   "metadata": {},
   "source": [
    "7. Convert the following:\n",
    "- \"22.4\" into integer\n",
    "- \"22\" into complex number"
   ]
  },
  {
   "cell_type": "code",
   "execution_count": 64,
   "id": "f2f62d2e-9212-412c-b7e3-c6ad767d7e40",
   "metadata": {},
   "outputs": [
    {
     "name": "stdout",
     "output_type": "stream",
     "text": [
      "<class 'str'>\n"
     ]
    },
    {
     "ename": "ValueError",
     "evalue": "invalid literal for int() with base 10: '22.4'",
     "output_type": "error",
     "traceback": [
      "\u001b[0;31m---------------------------------------------------------------------------\u001b[0m",
      "\u001b[0;31mValueError\u001b[0m                                Traceback (most recent call last)",
      "Input \u001b[0;32mIn [64]\u001b[0m, in \u001b[0;36m<cell line: 3>\u001b[0;34m()\u001b[0m\n\u001b[1;32m      1\u001b[0m x \u001b[38;5;241m=\u001b[39m \u001b[38;5;124m\"\u001b[39m\u001b[38;5;124m22.4\u001b[39m\u001b[38;5;124m\"\u001b[39m\n\u001b[1;32m      2\u001b[0m \u001b[38;5;28mprint\u001b[39m(\u001b[38;5;28mtype\u001b[39m(number))\n\u001b[0;32m----> 3\u001b[0m int_number \u001b[38;5;241m=\u001b[39m \u001b[38;5;28;43mint\u001b[39;49m\u001b[43m(\u001b[49m\u001b[43mx\u001b[49m\u001b[43m)\u001b[49m\n\u001b[1;32m      4\u001b[0m \u001b[38;5;28mprint\u001b[39m(\u001b[38;5;28mtype\u001b[39m(int_number))\n",
      "\u001b[0;31mValueError\u001b[0m: invalid literal for int() with base 10: '22.4'"
     ]
    }
   ],
   "source": [
    "x = \"22.4\"\n",
    "print(type(number))\n",
    "int_number = int(x)\n",
    "print(type(int_number))\n"
   ]
  },
  {
   "cell_type": "code",
   "execution_count": 65,
   "id": "bbe762de-b34a-4733-8ad7-946320f2332d",
   "metadata": {},
   "outputs": [
    {
     "name": "stdout",
     "output_type": "stream",
     "text": [
      "<class 'str'>\n",
      "<class 'complex'>\n"
     ]
    }
   ],
   "source": [
    "y = \"22.4\"\n",
    "print(type(number))\n",
    "complex_number = complex(y)\n",
    "print(type(complex_number))"
   ]
  },
  {
   "cell_type": "code",
   "execution_count": null,
   "id": "d523436f-ffaf-4500-8f59-16976550f08f",
   "metadata": {},
   "outputs": [],
   "source": []
  }
 ],
 "metadata": {
  "kernelspec": {
   "display_name": "Python 3 (ipykernel)",
   "language": "python",
   "name": "python3"
  },
  "language_info": {
   "codemirror_mode": {
    "name": "ipython",
    "version": 3
   },
   "file_extension": ".py",
   "mimetype": "text/x-python",
   "name": "python",
   "nbconvert_exporter": "python",
   "pygments_lexer": "ipython3",
   "version": "3.9.12"
  }
 },
 "nbformat": 4,
 "nbformat_minor": 5
}
